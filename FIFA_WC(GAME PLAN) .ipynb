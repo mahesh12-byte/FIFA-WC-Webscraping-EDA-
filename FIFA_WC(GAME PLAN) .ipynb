{
 "cells": [
  {
   "cell_type": "markdown",
   "id": "f8e74a79",
   "metadata": {},
   "source": [
    "# WebScraping Data to Perform EDA"
   ]
  },
  {
   "cell_type": "code",
   "execution_count": 5,
   "id": "b45d61dc",
   "metadata": {},
   "outputs": [],
   "source": [
    "import requests\n",
    "from bs4 import BeautifulSoup\n",
    "import csv\n",
    "\n",
    "url = \"https://www.foxsports.com/soccer/fifa-world-cup/history\"\n",
    "page = requests.get(url)\n",
    "soup = BeautifulSoup(page.text, \"html.parser\")\n",
    "table = soup.find(\"table\", {\"class\": \"data-table\"})\n",
    "\n",
    "headers = []\n",
    "values_list = []\n",
    "final_list = []\n",
    "\n",
    "for i in table.find_all(\"th\"):\n",
    "    title = i.text.strip()\n",
    "    headers.append(title)\n",
    "headers[0] = \"Year\"\n",
    "xd = soup.find(\"tbody\", {\"class\": \"row-data\"})\n",
    "for x in xd.find_all(\"tr\"):\n",
    "    values = []\n",
    "    for y in str(x.text.strip()).split(\"\\n\"):\n",
    "        y = y.strip()\n",
    "        if y == \"\":\n",
    "            continue\n",
    "        values.append(y)\n",
    "    values_list.append(values)\n",
    "\n",
    "for v in values_list:\n",
    "    kuchbhi = {}\n",
    "    count = 0\n",
    "    for x in v:\n",
    "        kuchbhi[headers[count]] = x\n",
    "        count = count + 1\n",
    "    if len(kuchbhi) == 0:\n",
    "        pass\n",
    "    final_list.append(kuchbhi)\n",
    "\n",
    "#print(final_list)\n",
    "\n",
    "field_names = final_list[0].keys()\n",
    "filename = \"fifa.csv\"\n",
    "with open(filename, 'w', newline='') as f:\n",
    "    # create a DictWriter object\n",
    "    writer = csv.DictWriter(f, fieldnames=field_names)\n",
    "\n",
    "    # write the headers\n",
    "    writer.writeheader()\n",
    "\n",
    "    # write the data\n",
    "    for row in final_list:\n",
    "        writer.writerow(row)\n"
   ]
  },
  {
   "cell_type": "markdown",
   "id": "74ae2bcc",
   "metadata": {},
   "source": [
    "# Importing All Libraries which are Required to Perform Analysis"
   ]
  },
  {
   "cell_type": "code",
   "execution_count": 2,
   "id": "bbd3de69",
   "metadata": {},
   "outputs": [],
   "source": [
    "import numpy as np\n",
    "import pandas as pd\n",
    "import matplotlib.pyplot as plt\n",
    "import seaborn as sns\n",
    "\n",
    "import warnings\n",
    "warnings.filterwarnings(\"ignore\")"
   ]
  },
  {
   "cell_type": "markdown",
   "id": "d25c3fe4",
   "metadata": {},
   "source": [
    "# Reading CSV file Which is generated After Web Scraping"
   ]
  },
  {
   "cell_type": "code",
   "execution_count": 9,
   "id": "b58728f4",
   "metadata": {},
   "outputs": [
    {
     "data": {
      "text/html": [
       "<div>\n",
       "<style scoped>\n",
       "    .dataframe tbody tr th:only-of-type {\n",
       "        vertical-align: middle;\n",
       "    }\n",
       "\n",
       "    .dataframe tbody tr th {\n",
       "        vertical-align: top;\n",
       "    }\n",
       "\n",
       "    .dataframe thead th {\n",
       "        text-align: right;\n",
       "    }\n",
       "</style>\n",
       "<table border=\"1\" class=\"dataframe\">\n",
       "  <thead>\n",
       "    <tr style=\"text-align: right;\">\n",
       "      <th></th>\n",
       "      <th>Year</th>\n",
       "      <th>CHAMPION</th>\n",
       "      <th>RUNNER UP</th>\n",
       "      <th>THIRD PLACE</th>\n",
       "      <th>HOST</th>\n",
       "      <th>TEAMS</th>\n",
       "      <th>MATCHES</th>\n",
       "      <th>GOALS</th>\n",
       "    </tr>\n",
       "  </thead>\n",
       "  <tbody>\n",
       "    <tr>\n",
       "      <th>0</th>\n",
       "      <td>2022</td>\n",
       "      <td>Argentina</td>\n",
       "      <td>France</td>\n",
       "      <td>Croatia</td>\n",
       "      <td>Qatar</td>\n",
       "      <td>32</td>\n",
       "      <td>64</td>\n",
       "      <td>172</td>\n",
       "    </tr>\n",
       "    <tr>\n",
       "      <th>1</th>\n",
       "      <td>2018</td>\n",
       "      <td>France</td>\n",
       "      <td>Croatia</td>\n",
       "      <td>Belgium</td>\n",
       "      <td>Russia</td>\n",
       "      <td>32</td>\n",
       "      <td>64</td>\n",
       "      <td>169</td>\n",
       "    </tr>\n",
       "    <tr>\n",
       "      <th>2</th>\n",
       "      <td>2014</td>\n",
       "      <td>Germany</td>\n",
       "      <td>Argentina</td>\n",
       "      <td>Netherlands</td>\n",
       "      <td>Brazil</td>\n",
       "      <td>32</td>\n",
       "      <td>64</td>\n",
       "      <td>171</td>\n",
       "    </tr>\n",
       "    <tr>\n",
       "      <th>3</th>\n",
       "      <td>2010</td>\n",
       "      <td>Spain</td>\n",
       "      <td>Netherlands</td>\n",
       "      <td>Germany</td>\n",
       "      <td>South Africa</td>\n",
       "      <td>32</td>\n",
       "      <td>64</td>\n",
       "      <td>145</td>\n",
       "    </tr>\n",
       "    <tr>\n",
       "      <th>4</th>\n",
       "      <td>2006</td>\n",
       "      <td>Italy</td>\n",
       "      <td>France</td>\n",
       "      <td>Germany</td>\n",
       "      <td>Germany</td>\n",
       "      <td>32</td>\n",
       "      <td>64</td>\n",
       "      <td>147</td>\n",
       "    </tr>\n",
       "    <tr>\n",
       "      <th>5</th>\n",
       "      <td>2002</td>\n",
       "      <td>Brazil</td>\n",
       "      <td>Germany</td>\n",
       "      <td>Turkey</td>\n",
       "      <td>South Korea, Japan</td>\n",
       "      <td>32</td>\n",
       "      <td>64</td>\n",
       "      <td>161</td>\n",
       "    </tr>\n",
       "    <tr>\n",
       "      <th>6</th>\n",
       "      <td>1998</td>\n",
       "      <td>France</td>\n",
       "      <td>Brazil</td>\n",
       "      <td>Croatia</td>\n",
       "      <td>France</td>\n",
       "      <td>32</td>\n",
       "      <td>64</td>\n",
       "      <td>171</td>\n",
       "    </tr>\n",
       "    <tr>\n",
       "      <th>7</th>\n",
       "      <td>1994</td>\n",
       "      <td>Brazil</td>\n",
       "      <td>Italy</td>\n",
       "      <td>Sweden</td>\n",
       "      <td>United States</td>\n",
       "      <td>24</td>\n",
       "      <td>52</td>\n",
       "      <td>141</td>\n",
       "    </tr>\n",
       "    <tr>\n",
       "      <th>8</th>\n",
       "      <td>1990</td>\n",
       "      <td>Germany</td>\n",
       "      <td>Argentina</td>\n",
       "      <td>Italy</td>\n",
       "      <td>Italy</td>\n",
       "      <td>24</td>\n",
       "      <td>52</td>\n",
       "      <td>115</td>\n",
       "    </tr>\n",
       "    <tr>\n",
       "      <th>9</th>\n",
       "      <td>1986</td>\n",
       "      <td>Argentina</td>\n",
       "      <td>Germany</td>\n",
       "      <td>France</td>\n",
       "      <td>Mexico</td>\n",
       "      <td>24</td>\n",
       "      <td>52</td>\n",
       "      <td>132</td>\n",
       "    </tr>\n",
       "    <tr>\n",
       "      <th>10</th>\n",
       "      <td>1982</td>\n",
       "      <td>Italy</td>\n",
       "      <td>Germany</td>\n",
       "      <td>Poland</td>\n",
       "      <td>Spain</td>\n",
       "      <td>24</td>\n",
       "      <td>52</td>\n",
       "      <td>146</td>\n",
       "    </tr>\n",
       "    <tr>\n",
       "      <th>11</th>\n",
       "      <td>1978</td>\n",
       "      <td>Argentina</td>\n",
       "      <td>Netherlands</td>\n",
       "      <td>Brazil</td>\n",
       "      <td>Argentina</td>\n",
       "      <td>16</td>\n",
       "      <td>38</td>\n",
       "      <td>102</td>\n",
       "    </tr>\n",
       "    <tr>\n",
       "      <th>12</th>\n",
       "      <td>1974</td>\n",
       "      <td>Germany</td>\n",
       "      <td>Netherlands</td>\n",
       "      <td>Poland</td>\n",
       "      <td>West Germany</td>\n",
       "      <td>16</td>\n",
       "      <td>38</td>\n",
       "      <td>97</td>\n",
       "    </tr>\n",
       "    <tr>\n",
       "      <th>13</th>\n",
       "      <td>1970</td>\n",
       "      <td>Brazil</td>\n",
       "      <td>Italy</td>\n",
       "      <td>Germany</td>\n",
       "      <td>Mexico</td>\n",
       "      <td>16</td>\n",
       "      <td>32</td>\n",
       "      <td>95</td>\n",
       "    </tr>\n",
       "    <tr>\n",
       "      <th>14</th>\n",
       "      <td>1966</td>\n",
       "      <td>England</td>\n",
       "      <td>Germany</td>\n",
       "      <td>Portugal</td>\n",
       "      <td>England</td>\n",
       "      <td>16</td>\n",
       "      <td>32</td>\n",
       "      <td>89</td>\n",
       "    </tr>\n",
       "    <tr>\n",
       "      <th>15</th>\n",
       "      <td>1962</td>\n",
       "      <td>Brazil</td>\n",
       "      <td>Czechia</td>\n",
       "      <td>Chile</td>\n",
       "      <td>Chile</td>\n",
       "      <td>16</td>\n",
       "      <td>32</td>\n",
       "      <td>89</td>\n",
       "    </tr>\n",
       "    <tr>\n",
       "      <th>16</th>\n",
       "      <td>1958</td>\n",
       "      <td>Brazil</td>\n",
       "      <td>Sweden</td>\n",
       "      <td>France</td>\n",
       "      <td>Sweden</td>\n",
       "      <td>16</td>\n",
       "      <td>35</td>\n",
       "      <td>126</td>\n",
       "    </tr>\n",
       "    <tr>\n",
       "      <th>17</th>\n",
       "      <td>1954</td>\n",
       "      <td>Germany</td>\n",
       "      <td>Hungary</td>\n",
       "      <td>Austria</td>\n",
       "      <td>Switzerland</td>\n",
       "      <td>16</td>\n",
       "      <td>26</td>\n",
       "      <td>140</td>\n",
       "    </tr>\n",
       "    <tr>\n",
       "      <th>18</th>\n",
       "      <td>1950</td>\n",
       "      <td>Uruguay</td>\n",
       "      <td>Brazil</td>\n",
       "      <td>Sweden</td>\n",
       "      <td>Brazil</td>\n",
       "      <td>13</td>\n",
       "      <td>22</td>\n",
       "      <td>88</td>\n",
       "    </tr>\n",
       "    <tr>\n",
       "      <th>19</th>\n",
       "      <td>1938</td>\n",
       "      <td>Italy</td>\n",
       "      <td>Hungary</td>\n",
       "      <td>Brazil</td>\n",
       "      <td>France</td>\n",
       "      <td>15</td>\n",
       "      <td>18</td>\n",
       "      <td>84</td>\n",
       "    </tr>\n",
       "    <tr>\n",
       "      <th>20</th>\n",
       "      <td>1934</td>\n",
       "      <td>Italy</td>\n",
       "      <td>Czechia</td>\n",
       "      <td>Germany</td>\n",
       "      <td>Italy</td>\n",
       "      <td>16</td>\n",
       "      <td>17</td>\n",
       "      <td>70</td>\n",
       "    </tr>\n",
       "    <tr>\n",
       "      <th>21</th>\n",
       "      <td>1930</td>\n",
       "      <td>Uruguay</td>\n",
       "      <td>Argentina</td>\n",
       "      <td>United States</td>\n",
       "      <td>Uruguay</td>\n",
       "      <td>13</td>\n",
       "      <td>16</td>\n",
       "      <td>70</td>\n",
       "    </tr>\n",
       "  </tbody>\n",
       "</table>\n",
       "</div>"
      ],
      "text/plain": [
       "    Year   CHAMPION    RUNNER UP    THIRD PLACE                HOST  TEAMS  \\\n",
       "0   2022  Argentina       France        Croatia               Qatar     32   \n",
       "1   2018     France      Croatia        Belgium              Russia     32   \n",
       "2   2014    Germany    Argentina    Netherlands              Brazil     32   \n",
       "3   2010      Spain  Netherlands        Germany        South Africa     32   \n",
       "4   2006      Italy       France        Germany             Germany     32   \n",
       "5   2002     Brazil      Germany         Turkey  South Korea, Japan     32   \n",
       "6   1998     France       Brazil        Croatia              France     32   \n",
       "7   1994     Brazil        Italy         Sweden       United States     24   \n",
       "8   1990    Germany    Argentina          Italy               Italy     24   \n",
       "9   1986  Argentina      Germany         France              Mexico     24   \n",
       "10  1982      Italy      Germany         Poland               Spain     24   \n",
       "11  1978  Argentina  Netherlands         Brazil           Argentina     16   \n",
       "12  1974    Germany  Netherlands         Poland        West Germany     16   \n",
       "13  1970     Brazil        Italy        Germany              Mexico     16   \n",
       "14  1966    England      Germany       Portugal             England     16   \n",
       "15  1962     Brazil      Czechia          Chile               Chile     16   \n",
       "16  1958     Brazil       Sweden         France              Sweden     16   \n",
       "17  1954    Germany      Hungary        Austria         Switzerland     16   \n",
       "18  1950    Uruguay       Brazil         Sweden              Brazil     13   \n",
       "19  1938      Italy      Hungary         Brazil              France     15   \n",
       "20  1934      Italy      Czechia        Germany               Italy     16   \n",
       "21  1930    Uruguay    Argentina  United States             Uruguay     13   \n",
       "\n",
       "    MATCHES  GOALS  \n",
       "0        64    172  \n",
       "1        64    169  \n",
       "2        64    171  \n",
       "3        64    145  \n",
       "4        64    147  \n",
       "5        64    161  \n",
       "6        64    171  \n",
       "7        52    141  \n",
       "8        52    115  \n",
       "9        52    132  \n",
       "10       52    146  \n",
       "11       38    102  \n",
       "12       38     97  \n",
       "13       32     95  \n",
       "14       32     89  \n",
       "15       32     89  \n",
       "16       35    126  \n",
       "17       26    140  \n",
       "18       22     88  \n",
       "19       18     84  \n",
       "20       17     70  \n",
       "21       16     70  "
      ]
     },
     "execution_count": 9,
     "metadata": {},
     "output_type": "execute_result"
    }
   ],
   "source": [
    "df = pd.read_csv(\"fifa.csv\")\n",
    "df"
   ]
  },
  {
   "cell_type": "markdown",
   "id": "93206696",
   "metadata": {},
   "source": [
    "# To Display the First five rows from the dataset"
   ]
  },
  {
   "cell_type": "code",
   "execution_count": 7,
   "id": "3b53a376",
   "metadata": {},
   "outputs": [
    {
     "data": {
      "text/html": [
       "<div>\n",
       "<style scoped>\n",
       "    .dataframe tbody tr th:only-of-type {\n",
       "        vertical-align: middle;\n",
       "    }\n",
       "\n",
       "    .dataframe tbody tr th {\n",
       "        vertical-align: top;\n",
       "    }\n",
       "\n",
       "    .dataframe thead th {\n",
       "        text-align: right;\n",
       "    }\n",
       "</style>\n",
       "<table border=\"1\" class=\"dataframe\">\n",
       "  <thead>\n",
       "    <tr style=\"text-align: right;\">\n",
       "      <th></th>\n",
       "      <th>Year</th>\n",
       "      <th>CHAMPION</th>\n",
       "      <th>RUNNER UP</th>\n",
       "      <th>THIRD PLACE</th>\n",
       "      <th>HOST</th>\n",
       "      <th>TEAMS</th>\n",
       "      <th>MATCHES</th>\n",
       "      <th>GOALS</th>\n",
       "    </tr>\n",
       "  </thead>\n",
       "  <tbody>\n",
       "    <tr>\n",
       "      <th>0</th>\n",
       "      <td>2022</td>\n",
       "      <td>Argentina</td>\n",
       "      <td>France</td>\n",
       "      <td>Croatia</td>\n",
       "      <td>Qatar</td>\n",
       "      <td>32</td>\n",
       "      <td>64</td>\n",
       "      <td>172</td>\n",
       "    </tr>\n",
       "    <tr>\n",
       "      <th>1</th>\n",
       "      <td>2018</td>\n",
       "      <td>France</td>\n",
       "      <td>Croatia</td>\n",
       "      <td>Belgium</td>\n",
       "      <td>Russia</td>\n",
       "      <td>32</td>\n",
       "      <td>64</td>\n",
       "      <td>169</td>\n",
       "    </tr>\n",
       "    <tr>\n",
       "      <th>2</th>\n",
       "      <td>2014</td>\n",
       "      <td>Germany</td>\n",
       "      <td>Argentina</td>\n",
       "      <td>Netherlands</td>\n",
       "      <td>Brazil</td>\n",
       "      <td>32</td>\n",
       "      <td>64</td>\n",
       "      <td>171</td>\n",
       "    </tr>\n",
       "    <tr>\n",
       "      <th>3</th>\n",
       "      <td>2010</td>\n",
       "      <td>Spain</td>\n",
       "      <td>Netherlands</td>\n",
       "      <td>Germany</td>\n",
       "      <td>South Africa</td>\n",
       "      <td>32</td>\n",
       "      <td>64</td>\n",
       "      <td>145</td>\n",
       "    </tr>\n",
       "    <tr>\n",
       "      <th>4</th>\n",
       "      <td>2006</td>\n",
       "      <td>Italy</td>\n",
       "      <td>France</td>\n",
       "      <td>Germany</td>\n",
       "      <td>Germany</td>\n",
       "      <td>32</td>\n",
       "      <td>64</td>\n",
       "      <td>147</td>\n",
       "    </tr>\n",
       "  </tbody>\n",
       "</table>\n",
       "</div>"
      ],
      "text/plain": [
       "   Year   CHAMPION    RUNNER UP  THIRD PLACE          HOST  TEAMS  MATCHES  \\\n",
       "0  2022  Argentina       France      Croatia         Qatar     32       64   \n",
       "1  2018     France      Croatia      Belgium        Russia     32       64   \n",
       "2  2014    Germany    Argentina  Netherlands        Brazil     32       64   \n",
       "3  2010      Spain  Netherlands      Germany  South Africa     32       64   \n",
       "4  2006      Italy       France      Germany       Germany     32       64   \n",
       "\n",
       "   GOALS  \n",
       "0    172  \n",
       "1    169  \n",
       "2    171  \n",
       "3    145  \n",
       "4    147  "
      ]
     },
     "execution_count": 7,
     "metadata": {},
     "output_type": "execute_result"
    }
   ],
   "source": [
    "df.head()"
   ]
  },
  {
   "cell_type": "markdown",
   "id": "119bd46d",
   "metadata": {},
   "source": [
    "# To Display the last five rows from the dataset"
   ]
  },
  {
   "cell_type": "code",
   "execution_count": 10,
   "id": "a2d2b3b2",
   "metadata": {},
   "outputs": [
    {
     "data": {
      "text/html": [
       "<div>\n",
       "<style scoped>\n",
       "    .dataframe tbody tr th:only-of-type {\n",
       "        vertical-align: middle;\n",
       "    }\n",
       "\n",
       "    .dataframe tbody tr th {\n",
       "        vertical-align: top;\n",
       "    }\n",
       "\n",
       "    .dataframe thead th {\n",
       "        text-align: right;\n",
       "    }\n",
       "</style>\n",
       "<table border=\"1\" class=\"dataframe\">\n",
       "  <thead>\n",
       "    <tr style=\"text-align: right;\">\n",
       "      <th></th>\n",
       "      <th>Year</th>\n",
       "      <th>CHAMPION</th>\n",
       "      <th>RUNNER UP</th>\n",
       "      <th>THIRD PLACE</th>\n",
       "      <th>HOST</th>\n",
       "      <th>TEAMS</th>\n",
       "      <th>MATCHES</th>\n",
       "      <th>GOALS</th>\n",
       "    </tr>\n",
       "  </thead>\n",
       "  <tbody>\n",
       "    <tr>\n",
       "      <th>17</th>\n",
       "      <td>1954</td>\n",
       "      <td>Germany</td>\n",
       "      <td>Hungary</td>\n",
       "      <td>Austria</td>\n",
       "      <td>Switzerland</td>\n",
       "      <td>16</td>\n",
       "      <td>26</td>\n",
       "      <td>140</td>\n",
       "    </tr>\n",
       "    <tr>\n",
       "      <th>18</th>\n",
       "      <td>1950</td>\n",
       "      <td>Uruguay</td>\n",
       "      <td>Brazil</td>\n",
       "      <td>Sweden</td>\n",
       "      <td>Brazil</td>\n",
       "      <td>13</td>\n",
       "      <td>22</td>\n",
       "      <td>88</td>\n",
       "    </tr>\n",
       "    <tr>\n",
       "      <th>19</th>\n",
       "      <td>1938</td>\n",
       "      <td>Italy</td>\n",
       "      <td>Hungary</td>\n",
       "      <td>Brazil</td>\n",
       "      <td>France</td>\n",
       "      <td>15</td>\n",
       "      <td>18</td>\n",
       "      <td>84</td>\n",
       "    </tr>\n",
       "    <tr>\n",
       "      <th>20</th>\n",
       "      <td>1934</td>\n",
       "      <td>Italy</td>\n",
       "      <td>Czechia</td>\n",
       "      <td>Germany</td>\n",
       "      <td>Italy</td>\n",
       "      <td>16</td>\n",
       "      <td>17</td>\n",
       "      <td>70</td>\n",
       "    </tr>\n",
       "    <tr>\n",
       "      <th>21</th>\n",
       "      <td>1930</td>\n",
       "      <td>Uruguay</td>\n",
       "      <td>Argentina</td>\n",
       "      <td>United States</td>\n",
       "      <td>Uruguay</td>\n",
       "      <td>13</td>\n",
       "      <td>16</td>\n",
       "      <td>70</td>\n",
       "    </tr>\n",
       "  </tbody>\n",
       "</table>\n",
       "</div>"
      ],
      "text/plain": [
       "    Year CHAMPION  RUNNER UP    THIRD PLACE         HOST  TEAMS  MATCHES  \\\n",
       "17  1954  Germany    Hungary        Austria  Switzerland     16       26   \n",
       "18  1950  Uruguay     Brazil         Sweden       Brazil     13       22   \n",
       "19  1938    Italy    Hungary         Brazil       France     15       18   \n",
       "20  1934    Italy    Czechia        Germany        Italy     16       17   \n",
       "21  1930  Uruguay  Argentina  United States      Uruguay     13       16   \n",
       "\n",
       "    GOALS  \n",
       "17    140  \n",
       "18     88  \n",
       "19     84  \n",
       "20     70  \n",
       "21     70  "
      ]
     },
     "execution_count": 10,
     "metadata": {},
     "output_type": "execute_result"
    }
   ],
   "source": [
    "df.tail()"
   ]
  },
  {
   "cell_type": "markdown",
   "id": "b0755fda",
   "metadata": {},
   "source": [
    "# To display the Datatypes of the Columns"
   ]
  },
  {
   "cell_type": "code",
   "execution_count": 11,
   "id": "2506458a",
   "metadata": {},
   "outputs": [
    {
     "data": {
      "text/plain": [
       "Year            int64\n",
       "CHAMPION       object\n",
       "RUNNER UP      object\n",
       "THIRD PLACE    object\n",
       "HOST           object\n",
       "TEAMS           int64\n",
       "MATCHES         int64\n",
       "GOALS           int64\n",
       "dtype: object"
      ]
     },
     "execution_count": 11,
     "metadata": {},
     "output_type": "execute_result"
    }
   ],
   "source": [
    "df.dtypes"
   ]
  },
  {
   "cell_type": "markdown",
   "id": "291a5585",
   "metadata": {},
   "source": [
    "# To display number of entries and information in the dataset"
   ]
  },
  {
   "cell_type": "code",
   "execution_count": 12,
   "id": "51af929d",
   "metadata": {},
   "outputs": [
    {
     "name": "stdout",
     "output_type": "stream",
     "text": [
      "<class 'pandas.core.frame.DataFrame'>\n",
      "RangeIndex: 22 entries, 0 to 21\n",
      "Data columns (total 8 columns):\n",
      " #   Column       Non-Null Count  Dtype \n",
      "---  ------       --------------  ----- \n",
      " 0   Year         22 non-null     int64 \n",
      " 1   CHAMPION     22 non-null     object\n",
      " 2   RUNNER UP    22 non-null     object\n",
      " 3   THIRD PLACE  22 non-null     object\n",
      " 4   HOST         22 non-null     object\n",
      " 5   TEAMS        22 non-null     int64 \n",
      " 6   MATCHES      22 non-null     int64 \n",
      " 7   GOALS        22 non-null     int64 \n",
      "dtypes: int64(4), object(4)\n",
      "memory usage: 1.5+ KB\n"
     ]
    }
   ],
   "source": [
    "df.info()"
   ]
  },
  {
   "cell_type": "markdown",
   "id": "972ebe10",
   "metadata": {},
   "source": [
    "# To display the Descriptive Statictics of the Dataset"
   ]
  },
  {
   "cell_type": "code",
   "execution_count": 13,
   "id": "0bd081ea",
   "metadata": {},
   "outputs": [
    {
     "data": {
      "text/html": [
       "<div>\n",
       "<style scoped>\n",
       "    .dataframe tbody tr th:only-of-type {\n",
       "        vertical-align: middle;\n",
       "    }\n",
       "\n",
       "    .dataframe tbody tr th {\n",
       "        vertical-align: top;\n",
       "    }\n",
       "\n",
       "    .dataframe thead th {\n",
       "        text-align: right;\n",
       "    }\n",
       "</style>\n",
       "<table border=\"1\" class=\"dataframe\">\n",
       "  <thead>\n",
       "    <tr style=\"text-align: right;\">\n",
       "      <th></th>\n",
       "      <th>Year</th>\n",
       "      <th>TEAMS</th>\n",
       "      <th>MATCHES</th>\n",
       "      <th>GOALS</th>\n",
       "    </tr>\n",
       "  </thead>\n",
       "  <tbody>\n",
       "    <tr>\n",
       "      <th>count</th>\n",
       "      <td>22.000000</td>\n",
       "      <td>22.000000</td>\n",
       "      <td>22.000000</td>\n",
       "      <td>22.000000</td>\n",
       "    </tr>\n",
       "    <tr>\n",
       "      <th>mean</th>\n",
       "      <td>1978.909091</td>\n",
       "      <td>22.227273</td>\n",
       "      <td>43.727273</td>\n",
       "      <td>123.636364</td>\n",
       "    </tr>\n",
       "    <tr>\n",
       "      <th>std</th>\n",
       "      <td>27.738419</td>\n",
       "      <td>7.602830</td>\n",
       "      <td>17.776876</td>\n",
       "      <td>34.841882</td>\n",
       "    </tr>\n",
       "    <tr>\n",
       "      <th>min</th>\n",
       "      <td>1930.000000</td>\n",
       "      <td>13.000000</td>\n",
       "      <td>16.000000</td>\n",
       "      <td>70.000000</td>\n",
       "    </tr>\n",
       "    <tr>\n",
       "      <th>25%</th>\n",
       "      <td>1959.000000</td>\n",
       "      <td>16.000000</td>\n",
       "      <td>32.000000</td>\n",
       "      <td>90.500000</td>\n",
       "    </tr>\n",
       "    <tr>\n",
       "      <th>50%</th>\n",
       "      <td>1980.000000</td>\n",
       "      <td>20.000000</td>\n",
       "      <td>45.000000</td>\n",
       "      <td>129.000000</td>\n",
       "    </tr>\n",
       "    <tr>\n",
       "      <th>75%</th>\n",
       "      <td>2001.000000</td>\n",
       "      <td>32.000000</td>\n",
       "      <td>64.000000</td>\n",
       "      <td>146.750000</td>\n",
       "    </tr>\n",
       "    <tr>\n",
       "      <th>max</th>\n",
       "      <td>2022.000000</td>\n",
       "      <td>32.000000</td>\n",
       "      <td>64.000000</td>\n",
       "      <td>172.000000</td>\n",
       "    </tr>\n",
       "  </tbody>\n",
       "</table>\n",
       "</div>"
      ],
      "text/plain": [
       "              Year      TEAMS    MATCHES       GOALS\n",
       "count    22.000000  22.000000  22.000000   22.000000\n",
       "mean   1978.909091  22.227273  43.727273  123.636364\n",
       "std      27.738419   7.602830  17.776876   34.841882\n",
       "min    1930.000000  13.000000  16.000000   70.000000\n",
       "25%    1959.000000  16.000000  32.000000   90.500000\n",
       "50%    1980.000000  20.000000  45.000000  129.000000\n",
       "75%    2001.000000  32.000000  64.000000  146.750000\n",
       "max    2022.000000  32.000000  64.000000  172.000000"
      ]
     },
     "execution_count": 13,
     "metadata": {},
     "output_type": "execute_result"
    }
   ],
   "source": [
    "df.describe()"
   ]
  },
  {
   "cell_type": "markdown",
   "id": "2f6ceaf3",
   "metadata": {},
   "source": [
    "# Checking the null values in Dataset"
   ]
  },
  {
   "cell_type": "code",
   "execution_count": 15,
   "id": "944c1d74",
   "metadata": {},
   "outputs": [
    {
     "data": {
      "text/plain": [
       "Year           0\n",
       "CHAMPION       0\n",
       "RUNNER UP      0\n",
       "THIRD PLACE    0\n",
       "HOST           0\n",
       "TEAMS          0\n",
       "MATCHES        0\n",
       "GOALS          0\n",
       "dtype: int64"
      ]
     },
     "execution_count": 15,
     "metadata": {},
     "output_type": "execute_result"
    }
   ],
   "source": [
    "df.isna().sum()"
   ]
  },
  {
   "cell_type": "markdown",
   "id": "c60c5fe4",
   "metadata": {},
   "source": [
    "# 1. Which is the best team in world cup"
   ]
  },
  {
   "cell_type": "code",
   "execution_count": 16,
   "id": "12a77e7f",
   "metadata": {},
   "outputs": [
    {
     "data": {
      "text/plain": [
       "Brazil       5\n",
       "Germany      4\n",
       "Italy        4\n",
       "Argentina    3\n",
       "Uruguay      2\n",
       "France       2\n",
       "England      1\n",
       "Spain        1\n",
       "Name: CHAMPION, dtype: int64"
      ]
     },
     "execution_count": 16,
     "metadata": {},
     "output_type": "execute_result"
    }
   ],
   "source": [
    "#Analytical\n",
    "df[\"CHAMPION\"].value_counts()"
   ]
  },
  {
   "cell_type": "code",
   "execution_count": 22,
   "id": "3827f890",
   "metadata": {},
   "outputs": [
    {
     "data": {
      "image/png": "[encoded data removed]",
      "text/plain": [
       "<Figure size 576x576 with 1 Axes>"
      ]
     },
     "metadata": {
      "needs_background": "light"
     },
     "output_type": "display_data"
    }
   ],
   "source": [
    "#Graphical\n",
    "plt.figure(figsize=(8,8))\n",
    "\n",
    "sns.countplot(data=df, x=\"CHAMPION\")\n",
    "\n",
    "plt.title(\"WC CHAMPION\")\n",
    "plt.xlabel(\"COUNTRY\")\n",
    "plt.ylabel(\"NO. of Times Champion\")\n",
    "plt.grid(True)\n",
    "\n",
    "plt.show()"
   ]
  },
  {
   "cell_type": "markdown",
   "id": "c4daa6b6",
   "metadata": {},
   "source": [
    "Brazil is the best team in wc history."
   ]
  },
  {
   "cell_type": "markdown",
   "id": "aff3a2ad",
   "metadata": {},
   "source": [
    "# 2.Country Winning the WorldCup After 2000"
   ]
  },
  {
   "cell_type": "code",
   "execution_count": 27,
   "id": "bad7f6af",
   "metadata": {},
   "outputs": [
    {
     "data": {
      "text/plain": [
       "France       1\n",
       "Spain        1\n",
       "Argentina    1\n",
       "Brazil       1\n",
       "Germany      1\n",
       "Italy        1\n",
       "Name: CHAMPION, dtype: int64"
      ]
     },
     "execution_count": 27,
     "metadata": {},
     "output_type": "execute_result"
    }
   ],
   "source": [
    "#Analytical\n",
    "df[df['Year']>2000]['CHAMPION'].value_counts()"
   ]
  },
  {
   "cell_type": "code",
   "execution_count": 28,
   "id": "f8135d32",
   "metadata": {},
   "outputs": [
    {
     "data": {
      "image/png": "[encoded data removed]",
      "text/plain": [
       "<Figure size 432x288 with 1 Axes>"
      ]
     },
     "metadata": {
      "needs_background": "light"
     },
     "output_type": "display_data"
    }
   ],
   "source": [
    "#Graphical\n",
    "df[df['Year']>2000]['CHAMPION'].value_counts().plot(kind=\"bar\")\n",
    "plt.title(\"WC Champions\")\n",
    "plt.ylabel(\"No. of Times Champion\")\n",
    "plt.xlabel(\"Country\")\n",
    "plt.show()"
   ]
  },
  {
   "cell_type": "markdown",
   "id": "0bd343fb",
   "metadata": {},
   "source": [
    "# 3.Which is the best team in 90's era"
   ]
  },
  {
   "cell_type": "code",
   "execution_count": 29,
   "id": "79e3fc74",
   "metadata": {},
   "outputs": [
    {
     "data": {
      "text/plain": [
       "Brazil       4\n",
       "Germany      3\n",
       "Italy        3\n",
       "Uruguay      2\n",
       "Argentina    2\n",
       "France       1\n",
       "England      1\n",
       "Name: CHAMPION, dtype: int64"
      ]
     },
     "execution_count": 29,
     "metadata": {},
     "output_type": "execute_result"
    }
   ],
   "source": [
    "#Analytical\n",
    "df[df['Year']<2000]['CHAMPION'].value_counts()"
   ]
  },
  {
   "cell_type": "code",
   "execution_count": 33,
   "id": "7c1cc91c",
   "metadata": {},
   "outputs": [
    {
     "data": {
      "image/png": "[encoded data removed]",
      "text/plain": [
       "<Figure size 432x288 with 1 Axes>"
      ]
     },
     "metadata": {
      "needs_background": "light"
     },
     "output_type": "display_data"
    }
   ],
   "source": [
    "#Graphical\n",
    "df[df['Year']<2000]['CHAMPION'].value_counts().plot(kind=\"bar\")\n",
    "plt.title(\"WC in 90s era\")\n",
    "plt.ylabel(\"No. of Times Champion\")\n",
    "plt.xlabel(\"Country\")\n",
    "plt.show()"
   ]
  },
  {
   "cell_type": "markdown",
   "id": "11f9bc96",
   "metadata": {},
   "source": [
    "Brazil is the best team in 90's era\n"
   ]
  },
  {
   "cell_type": "markdown",
   "id": "5ad1bd47",
   "metadata": {},
   "source": [
    "# 4.Host winning world cup"
   ]
  },
  {
   "cell_type": "code",
   "execution_count": 35,
   "id": "91324644",
   "metadata": {},
   "outputs": [
    {
     "data": {
      "text/html": [
       "<div>\n",
       "<style scoped>\n",
       "    .dataframe tbody tr th:only-of-type {\n",
       "        vertical-align: middle;\n",
       "    }\n",
       "\n",
       "    .dataframe tbody tr th {\n",
       "        vertical-align: top;\n",
       "    }\n",
       "\n",
       "    .dataframe thead th {\n",
       "        text-align: right;\n",
       "    }\n",
       "</style>\n",
       "<table border=\"1\" class=\"dataframe\">\n",
       "  <thead>\n",
       "    <tr style=\"text-align: right;\">\n",
       "      <th></th>\n",
       "      <th>Year</th>\n",
       "      <th>CHAMPION</th>\n",
       "      <th>RUNNER UP</th>\n",
       "      <th>THIRD PLACE</th>\n",
       "      <th>HOST</th>\n",
       "      <th>TEAMS</th>\n",
       "      <th>MATCHES</th>\n",
       "      <th>GOALS</th>\n",
       "    </tr>\n",
       "  </thead>\n",
       "  <tbody>\n",
       "    <tr>\n",
       "      <th>6</th>\n",
       "      <td>1998</td>\n",
       "      <td>France</td>\n",
       "      <td>Brazil</td>\n",
       "      <td>Croatia</td>\n",
       "      <td>France</td>\n",
       "      <td>32</td>\n",
       "      <td>64</td>\n",
       "      <td>171</td>\n",
       "    </tr>\n",
       "    <tr>\n",
       "      <th>11</th>\n",
       "      <td>1978</td>\n",
       "      <td>Argentina</td>\n",
       "      <td>Netherlands</td>\n",
       "      <td>Brazil</td>\n",
       "      <td>Argentina</td>\n",
       "      <td>16</td>\n",
       "      <td>38</td>\n",
       "      <td>102</td>\n",
       "    </tr>\n",
       "    <tr>\n",
       "      <th>14</th>\n",
       "      <td>1966</td>\n",
       "      <td>England</td>\n",
       "      <td>Germany</td>\n",
       "      <td>Portugal</td>\n",
       "      <td>England</td>\n",
       "      <td>16</td>\n",
       "      <td>32</td>\n",
       "      <td>89</td>\n",
       "    </tr>\n",
       "    <tr>\n",
       "      <th>20</th>\n",
       "      <td>1934</td>\n",
       "      <td>Italy</td>\n",
       "      <td>Czechia</td>\n",
       "      <td>Germany</td>\n",
       "      <td>Italy</td>\n",
       "      <td>16</td>\n",
       "      <td>17</td>\n",
       "      <td>70</td>\n",
       "    </tr>\n",
       "    <tr>\n",
       "      <th>21</th>\n",
       "      <td>1930</td>\n",
       "      <td>Uruguay</td>\n",
       "      <td>Argentina</td>\n",
       "      <td>United States</td>\n",
       "      <td>Uruguay</td>\n",
       "      <td>13</td>\n",
       "      <td>16</td>\n",
       "      <td>70</td>\n",
       "    </tr>\n",
       "  </tbody>\n",
       "</table>\n",
       "</div>"
      ],
      "text/plain": [
       "    Year   CHAMPION    RUNNER UP    THIRD PLACE       HOST  TEAMS  MATCHES  \\\n",
       "6   1998     France       Brazil        Croatia     France     32       64   \n",
       "11  1978  Argentina  Netherlands         Brazil  Argentina     16       38   \n",
       "14  1966    England      Germany       Portugal    England     16       32   \n",
       "20  1934      Italy      Czechia        Germany      Italy     16       17   \n",
       "21  1930    Uruguay    Argentina  United States    Uruguay     13       16   \n",
       "\n",
       "    GOALS  \n",
       "6     171  \n",
       "11    102  \n",
       "14     89  \n",
       "20     70  \n",
       "21     70  "
      ]
     },
     "execution_count": 35,
     "metadata": {},
     "output_type": "execute_result"
    }
   ],
   "source": [
    "df[df[\"HOST\"]==df[\"CHAMPION\"]]"
   ]
  },
  {
   "cell_type": "markdown",
   "id": "7906f1f4",
   "metadata": {},
   "source": [
    "Only six times host country win the wc."
   ]
  },
  {
   "cell_type": "code",
   "execution_count": 42,
   "id": "c82f4304",
   "metadata": {},
   "outputs": [
    {
     "data": {
      "image/png": "[encoded data removed]",
      "text/plain": [
       "<Figure size 504x504 with 1 Axes>"
      ]
     },
     "metadata": {
      "needs_background": "light"
     },
     "output_type": "display_data"
    }
   ],
   "source": [
    "plt.figure(figsize=(7,7))\n",
    "sns.scatterplot(data=df,x=\"Year\",y=\"HOST\",hue=\"CHAMPION\")\n",
    "plt.xlim(1928,2024)\n",
    "plt.grid()\n",
    "plt.title(\"WC Winners\")\n",
    "plt.show()"
   ]
  },
  {
   "cell_type": "markdown",
   "id": "a8835ca3",
   "metadata": {},
   "source": [
    "# 5.Which country host most no. of world cup"
   ]
  },
  {
   "cell_type": "code",
   "execution_count": 43,
   "id": "072352b5",
   "metadata": {},
   "outputs": [
    {
     "data": {
      "text/plain": [
       "Brazil                2\n",
       "France                2\n",
       "Mexico                2\n",
       "Italy                 2\n",
       "Uruguay               1\n",
       "United States         1\n",
       "Russia                1\n",
       "Sweden                1\n",
       "Spain                 1\n",
       "England               1\n",
       "Qatar                 1\n",
       "South Korea, Japan    1\n",
       "Germany               1\n",
       "Switzerland           1\n",
       "Argentina             1\n",
       "South Africa          1\n",
       "Chile                 1\n",
       "West Germany          1\n",
       "Name: HOST, dtype: int64"
      ]
     },
     "execution_count": 43,
     "metadata": {},
     "output_type": "execute_result"
    }
   ],
   "source": [
    "df[\"HOST\"].value_counts()"
   ]
  },
  {
   "cell_type": "code",
   "execution_count": 52,
   "id": "dba982a6",
   "metadata": {},
   "outputs": [
    {
     "data": {
      "image/png": "[encoded data removed]",
      "text/plain": [
       "<Figure size 432x432 with 1 Axes>"
      ]
     },
     "metadata": {
      "needs_background": "light"
     },
     "output_type": "display_data"
    }
   ],
   "source": [
    "plt.figure(figsize=(6,6))\n",
    "sns.countplot(data=df,x=\"HOST\")\n",
    "plt.title(\"Wc Host Countries\")\n",
    "plt.ylabel(\"No. Of Times Host\")\n",
    "plt.xticks(rotation=90)\n",
    "plt.show()"
   ]
  },
  {
   "cell_type": "markdown",
   "id": "b441c07b",
   "metadata": {},
   "source": [
    "Brazil, France, Italy, Mexico host most no. of Wc that is two times."
   ]
  },
  {
   "cell_type": "markdown",
   "id": "87b1665e",
   "metadata": {},
   "source": [
    "# 6.No. of goals scored per year and average goals per game per year increasing or not ?"
   ]
  },
  {
   "cell_type": "code",
   "execution_count": 57,
   "id": "63361b59",
   "metadata": {},
   "outputs": [
    {
     "data": {
      "image/png": "[encoded data removed]",
      "text/plain": [
       "<Figure size 432x288 with 1 Axes>"
      ]
     },
     "metadata": {
      "needs_background": "light"
     },
     "output_type": "display_data"
    }
   ],
   "source": [
    "plt.plot(df[\"Year\"],df[\"GOALS\"])\n",
    "plt.title(\"WC Goals\")\n",
    "plt.xlabel(\"Year\")\n",
    "plt.ylabel(\"No. Of Goals Scored\")\n",
    "plt.show()"
   ]
  },
  {
   "cell_type": "code",
   "execution_count": 58,
   "id": "a03df104",
   "metadata": {},
   "outputs": [
    {
     "data": {
      "image/png": "[encoded data removed]",
      "text/plain": [
       "<Figure size 432x288 with 1 Axes>"
      ]
     },
     "metadata": {
      "needs_background": "light"
     },
     "output_type": "display_data"
    }
   ],
   "source": [
    "df['Avg_Goals_Per_Game'] = df[\"GOALS\"] / df[\"MATCHES\"]\n",
    "plt.plot(df[\"Year\"],df['Avg_Goals_Per_Game'])\n",
    "plt.title(\"WC Avrg Goals Per Game Per Year\")\n",
    "plt.xlabel(\"Year\")\n",
    "plt.ylabel(\"Avrg Goals Per Game\")\n",
    "plt.show()"
   ]
  },
  {
   "cell_type": "markdown",
   "id": "ac366fbd",
   "metadata": {},
   "source": [
    "Goals Scored per year is increasing."
   ]
  },
  {
   "cell_type": "markdown",
   "id": "c74e285d",
   "metadata": {},
   "source": [
    "# 7.No.of Matches per year"
   ]
  },
  {
   "cell_type": "code",
   "execution_count": 77,
   "id": "3b74dd3a",
   "metadata": {},
   "outputs": [
    {
     "data": {
      "image/png": "[encoded data removed]",
      "text/plain": [
       "<Figure size 504x504 with 1 Axes>"
      ]
     },
     "metadata": {
      "needs_background": "light"
     },
     "output_type": "display_data"
    }
   ],
   "source": [
    "plt.figure(figsize=(7,7))\n",
    "sns.scatterplot(data=df,x=\"Year\",y=\"GOALS\",hue=\"MATCHES\")\n",
    "plt.title(\"No. Of Matches Per Year\")\n",
    "plt.ylim(50,200)\n",
    "plt.xlim(1928,2022)\n",
    "plt.grid()"
   ]
  },
  {
   "cell_type": "markdown",
   "id": "d8ca7600",
   "metadata": {},
   "source": [
    "no. of matches played per year is increasing."
   ]
  },
  {
   "cell_type": "markdown",
   "id": "9c4fae03",
   "metadata": {},
   "source": [
    "# 8.Max and min no. of goals scored in which year ?"
   ]
  },
  {
   "cell_type": "code",
   "execution_count": 84,
   "id": "649202d4",
   "metadata": {},
   "outputs": [
    {
     "name": "stdout",
     "output_type": "stream",
     "text": [
      "Maximum number of goals scored in year: 2022\n",
      "Minimum number of goals scored in year: 1934\n"
     ]
    }
   ],
   "source": [
    "# Find the maximum number of goals scored in a year\n",
    "max_goals = df.loc[df['GOALS'].idxmax()]\n",
    "print(\"Maximum number of goals scored in year:\", max_goals['Year'])\n",
    "\n",
    "# Find the minimum number of goals scored in a year\n",
    "min_goals = df.loc[df['GOALS'].idxmin()]\n",
    "print(\"Minimum number of goals scored in year:\", min_goals['Year'])\n"
   ]
  },
  {
   "cell_type": "markdown",
   "id": "99bcbc0b",
   "metadata": {},
   "source": [
    "# 9.France wins world cup in which years."
   ]
  },
  {
   "cell_type": "code",
   "execution_count": 91,
   "id": "363c0548",
   "metadata": {},
   "outputs": [
    {
     "data": {
      "text/plain": [
       "1    2018\n",
       "6    1998\n",
       "Name: Year, dtype: int64"
      ]
     },
     "execution_count": 91,
     "metadata": {},
     "output_type": "execute_result"
    }
   ],
   "source": [
    "df[df['CHAMPION']=='France']['Year']"
   ]
  },
  {
   "cell_type": "code",
   "execution_count": 93,
   "id": "bb71d02f",
   "metadata": {},
   "outputs": [
    {
     "data": {
      "text/html": [
       "<div>\n",
       "<style scoped>\n",
       "    .dataframe tbody tr th:only-of-type {\n",
       "        vertical-align: middle;\n",
       "    }\n",
       "\n",
       "    .dataframe tbody tr th {\n",
       "        vertical-align: top;\n",
       "    }\n",
       "\n",
       "    .dataframe thead th {\n",
       "        text-align: right;\n",
       "    }\n",
       "</style>\n",
       "<table border=\"1\" class=\"dataframe\">\n",
       "  <thead>\n",
       "    <tr style=\"text-align: right;\">\n",
       "      <th></th>\n",
       "      <th>Year</th>\n",
       "      <th>CHAMPION</th>\n",
       "      <th>RUNNER UP</th>\n",
       "      <th>THIRD PLACE</th>\n",
       "      <th>HOST</th>\n",
       "      <th>TEAMS</th>\n",
       "      <th>MATCHES</th>\n",
       "      <th>GOALS</th>\n",
       "      <th>Avg_Goals_Per_Game</th>\n",
       "    </tr>\n",
       "  </thead>\n",
       "  <tbody>\n",
       "    <tr>\n",
       "      <th>1</th>\n",
       "      <td>2018</td>\n",
       "      <td>France</td>\n",
       "      <td>Croatia</td>\n",
       "      <td>Belgium</td>\n",
       "      <td>Russia</td>\n",
       "      <td>32</td>\n",
       "      <td>64</td>\n",
       "      <td>169</td>\n",
       "      <td>2.640625</td>\n",
       "    </tr>\n",
       "    <tr>\n",
       "      <th>6</th>\n",
       "      <td>1998</td>\n",
       "      <td>France</td>\n",
       "      <td>Brazil</td>\n",
       "      <td>Croatia</td>\n",
       "      <td>France</td>\n",
       "      <td>32</td>\n",
       "      <td>64</td>\n",
       "      <td>171</td>\n",
       "      <td>2.671875</td>\n",
       "    </tr>\n",
       "  </tbody>\n",
       "</table>\n",
       "</div>"
      ],
      "text/plain": [
       "   Year CHAMPION RUNNER UP THIRD PLACE    HOST  TEAMS  MATCHES  GOALS  \\\n",
       "1  2018   France   Croatia     Belgium  Russia     32       64    169   \n",
       "6  1998   France    Brazil     Croatia  France     32       64    171   \n",
       "\n",
       "   Avg_Goals_Per_Game  \n",
       "1            2.640625  \n",
       "6            2.671875  "
      ]
     },
     "execution_count": 93,
     "metadata": {},
     "output_type": "execute_result"
    }
   ],
   "source": [
    "df[(df[\"CHAMPION\"] == \"France\")]"
   ]
  },
  {
   "cell_type": "markdown",
   "id": "708c9079",
   "metadata": {},
   "source": [
    "france wins wc in 1938 and 2018."
   ]
  },
  {
   "cell_type": "markdown",
   "id": "ec4d80d7",
   "metadata": {},
   "source": [
    "# 10.Italy Uruguay and argentina wins world cup in which years"
   ]
  },
  {
   "cell_type": "code",
   "execution_count": 95,
   "id": "eb8de146",
   "metadata": {},
   "outputs": [
    {
     "data": {
      "text/html": [
       "<div>\n",
       "<style scoped>\n",
       "    .dataframe tbody tr th:only-of-type {\n",
       "        vertical-align: middle;\n",
       "    }\n",
       "\n",
       "    .dataframe tbody tr th {\n",
       "        vertical-align: top;\n",
       "    }\n",
       "\n",
       "    .dataframe thead th {\n",
       "        text-align: right;\n",
       "    }\n",
       "</style>\n",
       "<table border=\"1\" class=\"dataframe\">\n",
       "  <thead>\n",
       "    <tr style=\"text-align: right;\">\n",
       "      <th></th>\n",
       "      <th>Year</th>\n",
       "      <th>CHAMPION</th>\n",
       "      <th>RUNNER UP</th>\n",
       "      <th>THIRD PLACE</th>\n",
       "      <th>HOST</th>\n",
       "      <th>TEAMS</th>\n",
       "      <th>MATCHES</th>\n",
       "      <th>GOALS</th>\n",
       "      <th>Avg_Goals_Per_Game</th>\n",
       "    </tr>\n",
       "  </thead>\n",
       "  <tbody>\n",
       "    <tr>\n",
       "      <th>0</th>\n",
       "      <td>2022</td>\n",
       "      <td>Argentina</td>\n",
       "      <td>France</td>\n",
       "      <td>Croatia</td>\n",
       "      <td>Qatar</td>\n",
       "      <td>32</td>\n",
       "      <td>64</td>\n",
       "      <td>172</td>\n",
       "      <td>2.687500</td>\n",
       "    </tr>\n",
       "    <tr>\n",
       "      <th>4</th>\n",
       "      <td>2006</td>\n",
       "      <td>Italy</td>\n",
       "      <td>France</td>\n",
       "      <td>Germany</td>\n",
       "      <td>Germany</td>\n",
       "      <td>32</td>\n",
       "      <td>64</td>\n",
       "      <td>147</td>\n",
       "      <td>2.296875</td>\n",
       "    </tr>\n",
       "    <tr>\n",
       "      <th>9</th>\n",
       "      <td>1986</td>\n",
       "      <td>Argentina</td>\n",
       "      <td>Germany</td>\n",
       "      <td>France</td>\n",
       "      <td>Mexico</td>\n",
       "      <td>24</td>\n",
       "      <td>52</td>\n",
       "      <td>132</td>\n",
       "      <td>2.538462</td>\n",
       "    </tr>\n",
       "    <tr>\n",
       "      <th>10</th>\n",
       "      <td>1982</td>\n",
       "      <td>Italy</td>\n",
       "      <td>Germany</td>\n",
       "      <td>Poland</td>\n",
       "      <td>Spain</td>\n",
       "      <td>24</td>\n",
       "      <td>52</td>\n",
       "      <td>146</td>\n",
       "      <td>2.807692</td>\n",
       "    </tr>\n",
       "    <tr>\n",
       "      <th>11</th>\n",
       "      <td>1978</td>\n",
       "      <td>Argentina</td>\n",
       "      <td>Netherlands</td>\n",
       "      <td>Brazil</td>\n",
       "      <td>Argentina</td>\n",
       "      <td>16</td>\n",
       "      <td>38</td>\n",
       "      <td>102</td>\n",
       "      <td>2.684211</td>\n",
       "    </tr>\n",
       "    <tr>\n",
       "      <th>18</th>\n",
       "      <td>1950</td>\n",
       "      <td>Uruguay</td>\n",
       "      <td>Brazil</td>\n",
       "      <td>Sweden</td>\n",
       "      <td>Brazil</td>\n",
       "      <td>13</td>\n",
       "      <td>22</td>\n",
       "      <td>88</td>\n",
       "      <td>4.000000</td>\n",
       "    </tr>\n",
       "    <tr>\n",
       "      <th>19</th>\n",
       "      <td>1938</td>\n",
       "      <td>Italy</td>\n",
       "      <td>Hungary</td>\n",
       "      <td>Brazil</td>\n",
       "      <td>France</td>\n",
       "      <td>15</td>\n",
       "      <td>18</td>\n",
       "      <td>84</td>\n",
       "      <td>4.666667</td>\n",
       "    </tr>\n",
       "    <tr>\n",
       "      <th>20</th>\n",
       "      <td>1934</td>\n",
       "      <td>Italy</td>\n",
       "      <td>Czechia</td>\n",
       "      <td>Germany</td>\n",
       "      <td>Italy</td>\n",
       "      <td>16</td>\n",
       "      <td>17</td>\n",
       "      <td>70</td>\n",
       "      <td>4.117647</td>\n",
       "    </tr>\n",
       "    <tr>\n",
       "      <th>21</th>\n",
       "      <td>1930</td>\n",
       "      <td>Uruguay</td>\n",
       "      <td>Argentina</td>\n",
       "      <td>United States</td>\n",
       "      <td>Uruguay</td>\n",
       "      <td>13</td>\n",
       "      <td>16</td>\n",
       "      <td>70</td>\n",
       "      <td>4.375000</td>\n",
       "    </tr>\n",
       "  </tbody>\n",
       "</table>\n",
       "</div>"
      ],
      "text/plain": [
       "    Year   CHAMPION    RUNNER UP    THIRD PLACE       HOST  TEAMS  MATCHES  \\\n",
       "0   2022  Argentina       France        Croatia      Qatar     32       64   \n",
       "4   2006      Italy       France        Germany    Germany     32       64   \n",
       "9   1986  Argentina      Germany         France     Mexico     24       52   \n",
       "10  1982      Italy      Germany         Poland      Spain     24       52   \n",
       "11  1978  Argentina  Netherlands         Brazil  Argentina     16       38   \n",
       "18  1950    Uruguay       Brazil         Sweden     Brazil     13       22   \n",
       "19  1938      Italy      Hungary         Brazil     France     15       18   \n",
       "20  1934      Italy      Czechia        Germany      Italy     16       17   \n",
       "21  1930    Uruguay    Argentina  United States    Uruguay     13       16   \n",
       "\n",
       "    GOALS  Avg_Goals_Per_Game  \n",
       "0     172            2.687500  \n",
       "4     147            2.296875  \n",
       "9     132            2.538462  \n",
       "10    146            2.807692  \n",
       "11    102            2.684211  \n",
       "18     88            4.000000  \n",
       "19     84            4.666667  \n",
       "20     70            4.117647  \n",
       "21     70            4.375000  "
      ]
     },
     "execution_count": 95,
     "metadata": {},
     "output_type": "execute_result"
    }
   ],
   "source": [
    "df[(df[\"CHAMPION\"] == \"Italy\") | (df[\"CHAMPION\"] == \"Uruguay\") | (df[\"CHAMPION\"] == \"Argentina\") ]"
   ]
  },
  {
   "cell_type": "markdown",
   "id": "5d0c6132",
   "metadata": {},
   "source": [
    "Italy wins wc in 1934,1938,1982,2006, Uruguay wins wc in 1930,1950, Argentina wins wc in 1978,1986,2022"
   ]
  },
  {
   "cell_type": "markdown",
   "id": "0c50815e",
   "metadata": {},
   "source": [
    "# 11.Brazil, Italy, Sweden Runner Up in which years?"
   ]
  },
  {
   "cell_type": "code",
   "execution_count": 115,
   "id": "17f6be6f",
   "metadata": {},
   "outputs": [
    {
     "data": {
      "text/html": [
       "<div>\n",
       "<style scoped>\n",
       "    .dataframe tbody tr th:only-of-type {\n",
       "        vertical-align: middle;\n",
       "    }\n",
       "\n",
       "    .dataframe tbody tr th {\n",
       "        vertical-align: top;\n",
       "    }\n",
       "\n",
       "    .dataframe thead th {\n",
       "        text-align: right;\n",
       "    }\n",
       "</style>\n",
       "<table border=\"1\" class=\"dataframe\">\n",
       "  <thead>\n",
       "    <tr style=\"text-align: right;\">\n",
       "      <th></th>\n",
       "      <th>Year</th>\n",
       "      <th>CHAMPION</th>\n",
       "      <th>RUNNER UP</th>\n",
       "      <th>THIRD PLACE</th>\n",
       "      <th>HOST</th>\n",
       "      <th>TEAMS</th>\n",
       "      <th>MATCHES</th>\n",
       "      <th>GOALS</th>\n",
       "      <th>Avg_Goals_Per_Game</th>\n",
       "    </tr>\n",
       "  </thead>\n",
       "  <tbody>\n",
       "    <tr>\n",
       "      <th>6</th>\n",
       "      <td>1998</td>\n",
       "      <td>France</td>\n",
       "      <td>Brazil</td>\n",
       "      <td>Croatia</td>\n",
       "      <td>France</td>\n",
       "      <td>32</td>\n",
       "      <td>64</td>\n",
       "      <td>171</td>\n",
       "      <td>2.671875</td>\n",
       "    </tr>\n",
       "    <tr>\n",
       "      <th>7</th>\n",
       "      <td>1994</td>\n",
       "      <td>Brazil</td>\n",
       "      <td>Italy</td>\n",
       "      <td>Sweden</td>\n",
       "      <td>United States</td>\n",
       "      <td>24</td>\n",
       "      <td>52</td>\n",
       "      <td>141</td>\n",
       "      <td>2.711538</td>\n",
       "    </tr>\n",
       "    <tr>\n",
       "      <th>13</th>\n",
       "      <td>1970</td>\n",
       "      <td>Brazil</td>\n",
       "      <td>Italy</td>\n",
       "      <td>Germany</td>\n",
       "      <td>Mexico</td>\n",
       "      <td>16</td>\n",
       "      <td>32</td>\n",
       "      <td>95</td>\n",
       "      <td>2.968750</td>\n",
       "    </tr>\n",
       "    <tr>\n",
       "      <th>16</th>\n",
       "      <td>1958</td>\n",
       "      <td>Brazil</td>\n",
       "      <td>Sweden</td>\n",
       "      <td>France</td>\n",
       "      <td>Sweden</td>\n",
       "      <td>16</td>\n",
       "      <td>35</td>\n",
       "      <td>126</td>\n",
       "      <td>3.600000</td>\n",
       "    </tr>\n",
       "    <tr>\n",
       "      <th>18</th>\n",
       "      <td>1950</td>\n",
       "      <td>Uruguay</td>\n",
       "      <td>Brazil</td>\n",
       "      <td>Sweden</td>\n",
       "      <td>Brazil</td>\n",
       "      <td>13</td>\n",
       "      <td>22</td>\n",
       "      <td>88</td>\n",
       "      <td>4.000000</td>\n",
       "    </tr>\n",
       "  </tbody>\n",
       "</table>\n",
       "</div>"
      ],
      "text/plain": [
       "    Year CHAMPION RUNNER UP THIRD PLACE           HOST  TEAMS  MATCHES  GOALS  \\\n",
       "6   1998   France    Brazil     Croatia         France     32       64    171   \n",
       "7   1994   Brazil     Italy      Sweden  United States     24       52    141   \n",
       "13  1970   Brazil     Italy     Germany         Mexico     16       32     95   \n",
       "16  1958   Brazil    Sweden      France         Sweden     16       35    126   \n",
       "18  1950  Uruguay    Brazil      Sweden         Brazil     13       22     88   \n",
       "\n",
       "    Avg_Goals_Per_Game  \n",
       "6             2.671875  \n",
       "7             2.711538  \n",
       "13            2.968750  \n",
       "16            3.600000  \n",
       "18            4.000000  "
      ]
     },
     "execution_count": 115,
     "metadata": {},
     "output_type": "execute_result"
    }
   ],
   "source": [
    "df[df[\"RUNNER UP\"].isin([\"Brazil\",\"Italy\",\"Sweden\"])]"
   ]
  },
  {
   "cell_type": "markdown",
   "id": "e654f9c4",
   "metadata": {},
   "source": [
    "Brazil runner up in 1950,1998, Italy runner up in 1970,1994, Sweden runner up in 1958"
   ]
  },
  {
   "cell_type": "markdown",
   "id": "a4e56c97",
   "metadata": {},
   "source": [
    "# 12.United States finished at third place in which year?"
   ]
  },
  {
   "cell_type": "code",
   "execution_count": 107,
   "id": "ae0c973b",
   "metadata": {},
   "outputs": [
    {
     "data": {
      "text/html": [
       "<div>\n",
       "<style scoped>\n",
       "    .dataframe tbody tr th:only-of-type {\n",
       "        vertical-align: middle;\n",
       "    }\n",
       "\n",
       "    .dataframe tbody tr th {\n",
       "        vertical-align: top;\n",
       "    }\n",
       "\n",
       "    .dataframe thead th {\n",
       "        text-align: right;\n",
       "    }\n",
       "</style>\n",
       "<table border=\"1\" class=\"dataframe\">\n",
       "  <thead>\n",
       "    <tr style=\"text-align: right;\">\n",
       "      <th></th>\n",
       "      <th>Year</th>\n",
       "      <th>CHAMPION</th>\n",
       "      <th>RUNNER UP</th>\n",
       "      <th>THIRD PLACE</th>\n",
       "      <th>HOST</th>\n",
       "      <th>TEAMS</th>\n",
       "      <th>MATCHES</th>\n",
       "      <th>GOALS</th>\n",
       "      <th>Avg_Goals_Per_Game</th>\n",
       "    </tr>\n",
       "  </thead>\n",
       "  <tbody>\n",
       "    <tr>\n",
       "      <th>21</th>\n",
       "      <td>1930</td>\n",
       "      <td>Uruguay</td>\n",
       "      <td>Argentina</td>\n",
       "      <td>United States</td>\n",
       "      <td>Uruguay</td>\n",
       "      <td>13</td>\n",
       "      <td>16</td>\n",
       "      <td>70</td>\n",
       "      <td>4.375</td>\n",
       "    </tr>\n",
       "  </tbody>\n",
       "</table>\n",
       "</div>"
      ],
      "text/plain": [
       "    Year CHAMPION  RUNNER UP    THIRD PLACE     HOST  TEAMS  MATCHES  GOALS  \\\n",
       "21  1930  Uruguay  Argentina  United States  Uruguay     13       16     70   \n",
       "\n",
       "    Avg_Goals_Per_Game  \n",
       "21               4.375  "
      ]
     },
     "execution_count": 107,
     "metadata": {},
     "output_type": "execute_result"
    }
   ],
   "source": [
    "df[df[\"THIRD PLACE\"].str.contains(\"United States\")]"
   ]
  },
  {
   "cell_type": "markdown",
   "id": "ff8f51c1",
   "metadata": {},
   "source": [
    "United States finished at third place in 1930."
   ]
  },
  {
   "cell_type": "markdown",
   "id": "d3096ad9",
   "metadata": {},
   "source": [
    "# 13.who is the inaugural world cup winner."
   ]
  },
  {
   "cell_type": "code",
   "execution_count": 99,
   "id": "348326c7",
   "metadata": {},
   "outputs": [
    {
     "data": {
      "text/plain": [
       "21    Uruguay\n",
       "Name: CHAMPION, dtype: object"
      ]
     },
     "execution_count": 99,
     "metadata": {},
     "output_type": "execute_result"
    }
   ],
   "source": [
    "df[df[\"Year\"]==1930][\"CHAMPION\"]"
   ]
  },
  {
   "cell_type": "markdown",
   "id": "a11d2258",
   "metadata": {},
   "source": [
    "Uruguay is the inaugaral wc winner."
   ]
  },
  {
   "cell_type": "markdown",
   "id": "2f57b1b6",
   "metadata": {},
   "source": [
    "# 14.How many times unique team wins world cup ?"
   ]
  },
  {
   "cell_type": "code",
   "execution_count": 104,
   "id": "9a4bf00a",
   "metadata": {},
   "outputs": [
    {
     "data": {
      "text/plain": [
       "8"
      ]
     },
     "execution_count": 104,
     "metadata": {},
     "output_type": "execute_result"
    }
   ],
   "source": [
    "df.CHAMPION.nunique()"
   ]
  },
  {
   "cell_type": "markdown",
   "id": "ac73919c",
   "metadata": {},
   "source": [
    "there are 8 occasions when new team wins wc."
   ]
  },
  {
   "cell_type": "code",
   "execution_count": 109,
   "id": "5d1ad1b6",
   "metadata": {},
   "outputs": [
    {
     "data": {
      "text/plain": [
       "Brazil       5\n",
       "Germany      4\n",
       "Italy        4\n",
       "Argentina    3\n",
       "Uruguay      2\n",
       "France       2\n",
       "England      1\n",
       "Spain        1\n",
       "Name: CHAMPION, dtype: int64"
      ]
     },
     "execution_count": 109,
     "metadata": {},
     "output_type": "execute_result"
    }
   ],
   "source": [
    "df[\"CHAMPION\"].value_counts()"
   ]
  },
  {
   "cell_type": "code",
   "execution_count": 110,
   "id": "4da62666",
   "metadata": {},
   "outputs": [
    {
     "data": {
      "text/plain": [
       "Germany        4\n",
       "Netherlands    3\n",
       "Argentina      3\n",
       "Hungary        2\n",
       "France         2\n",
       "Italy          2\n",
       "Czechia        2\n",
       "Brazil         2\n",
       "Croatia        1\n",
       "Sweden         1\n",
       "Name: RUNNER UP, dtype: int64"
      ]
     },
     "execution_count": 110,
     "metadata": {},
     "output_type": "execute_result"
    }
   ],
   "source": [
    "df[\"RUNNER UP\"].value_counts()"
   ]
  },
  {
   "cell_type": "code",
   "execution_count": 111,
   "id": "eb6b35d2",
   "metadata": {},
   "outputs": [
    {
     "data": {
      "text/plain": [
       "71.42857142857143"
      ]
     },
     "execution_count": 111,
     "metadata": {},
     "output_type": "execute_result"
    }
   ],
   "source": [
    "# Brazil wins world cup 5 times.\n",
    "# Total appearance in world cup final 7 times.\n",
    "chances = 5*100/7\n",
    "chances"
   ]
  },
  {
   "cell_type": "code",
   "execution_count": 112,
   "id": "5d907cbd",
   "metadata": {},
   "outputs": [
    {
     "data": {
      "text/plain": [
       "66.66666666666667"
      ]
     },
     "execution_count": 112,
     "metadata": {},
     "output_type": "execute_result"
    }
   ],
   "source": [
    "# Italy wins world cup 4 times.\n",
    "# Total appearance in world cup final 6 times.\n",
    "chances1 = 4*100/6\n",
    "chances1"
   ]
  },
  {
   "cell_type": "code",
   "execution_count": 114,
   "id": "2f253ebe",
   "metadata": {},
   "outputs": [
    {
     "data": {
      "text/plain": [
       "28.571428571428573"
      ]
     },
     "execution_count": 114,
     "metadata": {},
     "output_type": "execute_result"
    }
   ],
   "source": [
    "# Only 6 times host wins the cup final.\n",
    "# Total world cups tornament organized 22 times.\n",
    "chances2 = 6*100/21\n",
    "chances2"
   ]
  },
  {
   "cell_type": "markdown",
   "id": "3a32dbfb",
   "metadata": {},
   "source": [
    "# Conclusion"
   ]
  },
  {
   "cell_type": "raw",
   "id": "2e93591e",
   "metadata": {},
   "source": [
    "\n",
    "Brazil is the best team of all time in world cup.\n",
    "Brazil is the best team in 90's era.\n",
    "Brazil wins world cup 5 times and runner up 2 times.\n",
    "Italy wins world cup 4 times and runner up 2 times.\n",
    "In last 20 years there are unique world cup winners so there is no team particularly dominating.\n",
    "Only 6 times team wins the world cup while hosting the tournament which means that there are more pressure on hosts and there are less chances to win world cup while hosting.\n",
    "In world cup history only 8 unique teams wins the world cup.\n",
    "Goals scored per year ratio is increasing.\n",
    "From above points we colclude that if Brazil or Italy qualifies for world cup final then brazil have 71.42% chance of winning the world cup and Italy have 66.66% chance of winning the world cup.\n",
    "\n",
    "Hosting country have only 28.57% chance of winning the world cup."
   ]
  },
  {
   "cell_type": "markdown",
   "id": "cd23c1fa",
   "metadata": {},
   "source": [
    "# THANK YOU"
   ]
  },
  {
   "cell_type": "code",
   "execution_count": null,
   "id": "19057c29",
   "metadata": {},
   "outputs": [],
   "source": []
  }
 ],
 "metadata": {
  "kernelspec": {
   "display_name": "Python 3",
   "language": "python",
   "name": "python3"
  },
  "language_info": {
   "codemirror_mode": {
    "name": "ipython",
    "version": 3
   },
   "file_extension": ".py",
   "mimetype": "text/x-python",
   "name": "python",
   "nbconvert_exporter": "python",
   "pygments_lexer": "ipython3",
   "version": "3.9.4"
  }
 },
 "nbformat": 4,
 "nbformat_minor": 5
}
